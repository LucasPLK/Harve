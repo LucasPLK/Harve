{
 "cells": [
  {
   "cell_type": "markdown",
   "id": "21750346",
   "metadata": {},
   "source": [
    "# Verificando correlação de pearson usando o Numpy"
   ]
  },
  {
   "cell_type": "code",
   "execution_count": 9,
   "id": "86ebeb8d",
   "metadata": {},
   "outputs": [],
   "source": [
    "import numpy as np\n",
    "import pandas as pd"
   ]
  },
  {
   "cell_type": "code",
   "execution_count": 37,
   "id": "c05280f6",
   "metadata": {},
   "outputs": [],
   "source": [
    "dados = {'Horas_esporte': [0,0.5,1,1.5,2,2.5,3],\n",
    "'Humor': [5,5.4,6.9,7.2,8.3,8.5,9.5],\n",
    "'Idade': [32,51,24,24,39,57,21],\n",
    "'Filhos': [1,2,1,3,1,2,4]}\n",
    "\n",
    "df_humor = pd.DataFrame(dados)"
   ]
  },
  {
   "cell_type": "code",
   "execution_count": 38,
   "id": "031d2d8e",
   "metadata": {},
   "outputs": [
    {
     "data": {
      "text/html": [
       "<div>\n",
       "<style scoped>\n",
       "    .dataframe tbody tr th:only-of-type {\n",
       "        vertical-align: middle;\n",
       "    }\n",
       "\n",
       "    .dataframe tbody tr th {\n",
       "        vertical-align: top;\n",
       "    }\n",
       "\n",
       "    .dataframe thead th {\n",
       "        text-align: right;\n",
       "    }\n",
       "</style>\n",
       "<table border=\"1\" class=\"dataframe\">\n",
       "  <thead>\n",
       "    <tr style=\"text-align: right;\">\n",
       "      <th></th>\n",
       "      <th>Horas_esporte</th>\n",
       "      <th>Humor</th>\n",
       "      <th>Idade</th>\n",
       "      <th>Filhos</th>\n",
       "    </tr>\n",
       "  </thead>\n",
       "  <tbody>\n",
       "    <tr>\n",
       "      <th>0</th>\n",
       "      <td>0.0</td>\n",
       "      <td>5.0</td>\n",
       "      <td>32</td>\n",
       "      <td>1</td>\n",
       "    </tr>\n",
       "    <tr>\n",
       "      <th>1</th>\n",
       "      <td>0.5</td>\n",
       "      <td>5.4</td>\n",
       "      <td>51</td>\n",
       "      <td>2</td>\n",
       "    </tr>\n",
       "    <tr>\n",
       "      <th>2</th>\n",
       "      <td>1.0</td>\n",
       "      <td>6.9</td>\n",
       "      <td>24</td>\n",
       "      <td>1</td>\n",
       "    </tr>\n",
       "    <tr>\n",
       "      <th>3</th>\n",
       "      <td>1.5</td>\n",
       "      <td>7.2</td>\n",
       "      <td>24</td>\n",
       "      <td>3</td>\n",
       "    </tr>\n",
       "    <tr>\n",
       "      <th>4</th>\n",
       "      <td>2.0</td>\n",
       "      <td>8.3</td>\n",
       "      <td>39</td>\n",
       "      <td>1</td>\n",
       "    </tr>\n",
       "    <tr>\n",
       "      <th>5</th>\n",
       "      <td>2.5</td>\n",
       "      <td>8.5</td>\n",
       "      <td>57</td>\n",
       "      <td>2</td>\n",
       "    </tr>\n",
       "    <tr>\n",
       "      <th>6</th>\n",
       "      <td>3.0</td>\n",
       "      <td>9.5</td>\n",
       "      <td>21</td>\n",
       "      <td>4</td>\n",
       "    </tr>\n",
       "  </tbody>\n",
       "</table>\n",
       "</div>"
      ],
      "text/plain": [
       "   Horas_esporte  Humor  Idade  Filhos\n",
       "0            0.0    5.0     32       1\n",
       "1            0.5    5.4     51       2\n",
       "2            1.0    6.9     24       1\n",
       "3            1.5    7.2     24       3\n",
       "4            2.0    8.3     39       1\n",
       "5            2.5    8.5     57       2\n",
       "6            3.0    9.5     21       4"
      ]
     },
     "execution_count": 38,
     "metadata": {},
     "output_type": "execute_result"
    }
   ],
   "source": [
    "df_humor"
   ]
  },
  {
   "cell_type": "code",
   "execution_count": 39,
   "id": "489c385e",
   "metadata": {},
   "outputs": [
    {
     "data": {
      "text/plain": [
       "array([[1.        , 0.98654156],\n",
       "       [0.98654156, 1.        ]])"
      ]
     },
     "execution_count": 39,
     "metadata": {},
     "output_type": "execute_result"
    }
   ],
   "source": [
    "np.corrcoef(df_humor.Horas_esporte, df_humor.Humor)"
   ]
  },
  {
   "cell_type": "code",
   "execution_count": 40,
   "id": "16fa4790",
   "metadata": {},
   "outputs": [
    {
     "data": {
      "text/plain": [
       "array([[ 1.        , -0.13040188],\n",
       "       [-0.13040188,  1.        ]])"
      ]
     },
     "execution_count": 40,
     "metadata": {},
     "output_type": "execute_result"
    }
   ],
   "source": [
    "np.corrcoef(df_humor.Idade, df_humor.Humor)"
   ]
  },
  {
   "cell_type": "code",
   "execution_count": 41,
   "id": "d41d121f",
   "metadata": {},
   "outputs": [
    {
     "data": {
      "text/plain": [
       "array([[1.        , 0.52482946],\n",
       "       [0.52482946, 1.        ]])"
      ]
     },
     "execution_count": 41,
     "metadata": {},
     "output_type": "execute_result"
    }
   ],
   "source": [
    "np.corrcoef(df_humor.Filhos, df_humor.Humor)"
   ]
  },
  {
   "cell_type": "markdown",
   "id": "1d085137",
   "metadata": {},
   "source": [
    "# Verificando relações lineares:"
   ]
  },
  {
   "cell_type": "code",
   "execution_count": 42,
   "id": "ab91ae4f",
   "metadata": {},
   "outputs": [
    {
     "data": {
      "text/html": [
       "<div>\n",
       "<style scoped>\n",
       "    .dataframe tbody tr th:only-of-type {\n",
       "        vertical-align: middle;\n",
       "    }\n",
       "\n",
       "    .dataframe tbody tr th {\n",
       "        vertical-align: top;\n",
       "    }\n",
       "\n",
       "    .dataframe thead th {\n",
       "        text-align: right;\n",
       "    }\n",
       "</style>\n",
       "<table border=\"1\" class=\"dataframe\">\n",
       "  <thead>\n",
       "    <tr style=\"text-align: right;\">\n",
       "      <th></th>\n",
       "      <th>id</th>\n",
       "      <th>nome</th>\n",
       "      <th>idade</th>\n",
       "      <th>nacionalidade</th>\n",
       "      <th>pontuação geral</th>\n",
       "      <th>potencial</th>\n",
       "      <th>time</th>\n",
       "      <th>valor</th>\n",
       "      <th>remuneração</th>\n",
       "      <th>perna de preferência</th>\n",
       "      <th>...</th>\n",
       "      <th>emprestado de</th>\n",
       "      <th>validade do contrato</th>\n",
       "      <th>altura</th>\n",
       "      <th>peso</th>\n",
       "      <th>controle de bola</th>\n",
       "      <th>arrancada</th>\n",
       "      <th>agilidade</th>\n",
       "      <th>equilíbrio</th>\n",
       "      <th>energia</th>\n",
       "      <th>força</th>\n",
       "    </tr>\n",
       "  </thead>\n",
       "  <tbody>\n",
       "    <tr>\n",
       "      <th>0</th>\n",
       "      <td>158023</td>\n",
       "      <td>L. Messi</td>\n",
       "      <td>31</td>\n",
       "      <td>Argentina</td>\n",
       "      <td>94</td>\n",
       "      <td>94</td>\n",
       "      <td>FC Barcelona</td>\n",
       "      <td>€110.5M</td>\n",
       "      <td>€565K</td>\n",
       "      <td>Esquerda</td>\n",
       "      <td>...</td>\n",
       "      <td>NaN</td>\n",
       "      <td>2021</td>\n",
       "      <td>5'7</td>\n",
       "      <td>159lbs</td>\n",
       "      <td>96.0</td>\n",
       "      <td>91.0</td>\n",
       "      <td>91.0</td>\n",
       "      <td>95.0</td>\n",
       "      <td>72.0</td>\n",
       "      <td>59.0</td>\n",
       "    </tr>\n",
       "    <tr>\n",
       "      <th>1</th>\n",
       "      <td>20801</td>\n",
       "      <td>Cristiano Ronaldo</td>\n",
       "      <td>33</td>\n",
       "      <td>Portugal</td>\n",
       "      <td>94</td>\n",
       "      <td>94</td>\n",
       "      <td>Juventus</td>\n",
       "      <td>€77M</td>\n",
       "      <td>€405K</td>\n",
       "      <td>Direita</td>\n",
       "      <td>...</td>\n",
       "      <td>NaN</td>\n",
       "      <td>2022</td>\n",
       "      <td>6'2</td>\n",
       "      <td>183lbs</td>\n",
       "      <td>94.0</td>\n",
       "      <td>89.0</td>\n",
       "      <td>87.0</td>\n",
       "      <td>70.0</td>\n",
       "      <td>88.0</td>\n",
       "      <td>79.0</td>\n",
       "    </tr>\n",
       "    <tr>\n",
       "      <th>2</th>\n",
       "      <td>190871</td>\n",
       "      <td>Neymar Jr</td>\n",
       "      <td>26</td>\n",
       "      <td>Brazil</td>\n",
       "      <td>92</td>\n",
       "      <td>93</td>\n",
       "      <td>Paris Saint-Germain</td>\n",
       "      <td>€118.5M</td>\n",
       "      <td>€290K</td>\n",
       "      <td>Direita</td>\n",
       "      <td>...</td>\n",
       "      <td>NaN</td>\n",
       "      <td>2022</td>\n",
       "      <td>5'9</td>\n",
       "      <td>150lbs</td>\n",
       "      <td>95.0</td>\n",
       "      <td>94.0</td>\n",
       "      <td>96.0</td>\n",
       "      <td>84.0</td>\n",
       "      <td>81.0</td>\n",
       "      <td>49.0</td>\n",
       "    </tr>\n",
       "    <tr>\n",
       "      <th>3</th>\n",
       "      <td>193080</td>\n",
       "      <td>De Gea</td>\n",
       "      <td>27</td>\n",
       "      <td>Spain</td>\n",
       "      <td>91</td>\n",
       "      <td>93</td>\n",
       "      <td>Manchester United</td>\n",
       "      <td>€72M</td>\n",
       "      <td>€260K</td>\n",
       "      <td>Direita</td>\n",
       "      <td>...</td>\n",
       "      <td>NaN</td>\n",
       "      <td>2020</td>\n",
       "      <td>6'4</td>\n",
       "      <td>168lbs</td>\n",
       "      <td>42.0</td>\n",
       "      <td>57.0</td>\n",
       "      <td>60.0</td>\n",
       "      <td>43.0</td>\n",
       "      <td>43.0</td>\n",
       "      <td>64.0</td>\n",
       "    </tr>\n",
       "    <tr>\n",
       "      <th>4</th>\n",
       "      <td>192985</td>\n",
       "      <td>K. De Bruyne</td>\n",
       "      <td>27</td>\n",
       "      <td>Belgium</td>\n",
       "      <td>91</td>\n",
       "      <td>92</td>\n",
       "      <td>Manchester City</td>\n",
       "      <td>€102M</td>\n",
       "      <td>€355K</td>\n",
       "      <td>Direita</td>\n",
       "      <td>...</td>\n",
       "      <td>NaN</td>\n",
       "      <td>2023</td>\n",
       "      <td>5'11</td>\n",
       "      <td>154lbs</td>\n",
       "      <td>91.0</td>\n",
       "      <td>78.0</td>\n",
       "      <td>79.0</td>\n",
       "      <td>77.0</td>\n",
       "      <td>90.0</td>\n",
       "      <td>75.0</td>\n",
       "    </tr>\n",
       "  </tbody>\n",
       "</table>\n",
       "<p>5 rows × 24 columns</p>\n",
       "</div>"
      ],
      "text/plain": [
       "       id               nome  idade nacionalidade  pontuação geral  potencial  \\\n",
       "0  158023           L. Messi     31     Argentina               94         94   \n",
       "1   20801  Cristiano Ronaldo     33      Portugal               94         94   \n",
       "2  190871          Neymar Jr     26        Brazil               92         93   \n",
       "3  193080             De Gea     27         Spain               91         93   \n",
       "4  192985       K. De Bruyne     27       Belgium               91         92   \n",
       "\n",
       "                  time    valor remuneração perna de preferência  ...  \\\n",
       "0         FC Barcelona  €110.5M       €565K             Esquerda  ...   \n",
       "1             Juventus     €77M       €405K              Direita  ...   \n",
       "2  Paris Saint-Germain  €118.5M       €290K              Direita  ...   \n",
       "3    Manchester United     €72M       €260K              Direita  ...   \n",
       "4      Manchester City    €102M       €355K              Direita  ...   \n",
       "\n",
       "   emprestado de  validade do contrato  altura    peso controle de bola  \\\n",
       "0             NaN                 2021     5'7  159lbs             96.0   \n",
       "1             NaN                 2022     6'2  183lbs             94.0   \n",
       "2             NaN                 2022     5'9  150lbs             95.0   \n",
       "3             NaN                 2020     6'4  168lbs             42.0   \n",
       "4             NaN                 2023    5'11  154lbs             91.0   \n",
       "\n",
       "  arrancada agilidade equilíbrio  energia  força  \n",
       "0      91.0      91.0       95.0     72.0   59.0  \n",
       "1      89.0      87.0       70.0     88.0   79.0  \n",
       "2      94.0      96.0       84.0     81.0   49.0  \n",
       "3      57.0      60.0       43.0     43.0   64.0  \n",
       "4      78.0      79.0       77.0     90.0   75.0  \n",
       "\n",
       "[5 rows x 24 columns]"
      ]
     },
     "execution_count": 42,
     "metadata": {},
     "output_type": "execute_result"
    }
   ],
   "source": [
    "dffifa = pd.read_csv('https://www.harve.com.br/praticas/fifaplayers_pt.csv')\n",
    "dffifa.head()"
   ]
  },
  {
   "cell_type": "code",
   "execution_count": 24,
   "id": "f280f81f",
   "metadata": {},
   "outputs": [],
   "source": [
    "df_corr = dffifa.corr()"
   ]
  },
  {
   "cell_type": "code",
   "execution_count": 26,
   "id": "cd966565",
   "metadata": {},
   "outputs": [
    {
     "data": {
      "text/html": [
       "<div>\n",
       "<style scoped>\n",
       "    .dataframe tbody tr th:only-of-type {\n",
       "        vertical-align: middle;\n",
       "    }\n",
       "\n",
       "    .dataframe tbody tr th {\n",
       "        vertical-align: top;\n",
       "    }\n",
       "\n",
       "    .dataframe thead th {\n",
       "        text-align: right;\n",
       "    }\n",
       "</style>\n",
       "<table border=\"1\" class=\"dataframe\">\n",
       "  <thead>\n",
       "    <tr style=\"text-align: right;\">\n",
       "      <th></th>\n",
       "      <th>id</th>\n",
       "      <th>idade</th>\n",
       "      <th>pontuação geral</th>\n",
       "      <th>potencial</th>\n",
       "      <th>reputação internacional</th>\n",
       "      <th>camisa</th>\n",
       "      <th>controle de bola</th>\n",
       "      <th>arrancada</th>\n",
       "      <th>agilidade</th>\n",
       "      <th>equilíbrio</th>\n",
       "      <th>energia</th>\n",
       "      <th>força</th>\n",
       "    </tr>\n",
       "  </thead>\n",
       "  <tbody>\n",
       "    <tr>\n",
       "      <th>id</th>\n",
       "      <td>NaN</td>\n",
       "      <td>NaN</td>\n",
       "      <td>-0.417025</td>\n",
       "      <td>0.047074</td>\n",
       "      <td>-0.356191</td>\n",
       "      <td>0.182074</td>\n",
       "      <td>-0.100184</td>\n",
       "      <td>0.133236</td>\n",
       "      <td>-0.019897</td>\n",
       "      <td>0.048463</td>\n",
       "      <td>-0.053895</td>\n",
       "      <td>-0.259756</td>\n",
       "    </tr>\n",
       "    <tr>\n",
       "      <th>idade</th>\n",
       "      <td>NaN</td>\n",
       "      <td>NaN</td>\n",
       "      <td>0.452350</td>\n",
       "      <td>-0.253312</td>\n",
       "      <td>0.253765</td>\n",
       "      <td>-0.241156</td>\n",
       "      <td>0.084969</td>\n",
       "      <td>-0.158667</td>\n",
       "      <td>-0.019395</td>\n",
       "      <td>-0.089877</td>\n",
       "      <td>0.097793</td>\n",
       "      <td>0.332798</td>\n",
       "    </tr>\n",
       "    <tr>\n",
       "      <th>pontuação geral</th>\n",
       "      <td>-0.417025</td>\n",
       "      <td>0.452350</td>\n",
       "      <td>NaN</td>\n",
       "      <td>NaN</td>\n",
       "      <td>0.499491</td>\n",
       "      <td>-0.218931</td>\n",
       "      <td>0.460197</td>\n",
       "      <td>0.196869</td>\n",
       "      <td>0.264952</td>\n",
       "      <td>0.103160</td>\n",
       "      <td>0.365656</td>\n",
       "      <td>0.349326</td>\n",
       "    </tr>\n",
       "    <tr>\n",
       "      <th>potencial</th>\n",
       "      <td>0.047074</td>\n",
       "      <td>-0.253312</td>\n",
       "      <td>NaN</td>\n",
       "      <td>NaN</td>\n",
       "      <td>0.372993</td>\n",
       "      <td>-0.010474</td>\n",
       "      <td>0.354396</td>\n",
       "      <td>0.234608</td>\n",
       "      <td>0.222310</td>\n",
       "      <td>0.138025</td>\n",
       "      <td>0.202563</td>\n",
       "      <td>0.075769</td>\n",
       "    </tr>\n",
       "    <tr>\n",
       "      <th>reputação internacional</th>\n",
       "      <td>-0.356191</td>\n",
       "      <td>0.253765</td>\n",
       "      <td>0.499491</td>\n",
       "      <td>0.372993</td>\n",
       "      <td>NaN</td>\n",
       "      <td>-0.077298</td>\n",
       "      <td>0.217946</td>\n",
       "      <td>0.044319</td>\n",
       "      <td>0.100869</td>\n",
       "      <td>0.050076</td>\n",
       "      <td>0.094780</td>\n",
       "      <td>0.131280</td>\n",
       "    </tr>\n",
       "    <tr>\n",
       "      <th>camisa</th>\n",
       "      <td>0.182074</td>\n",
       "      <td>-0.241156</td>\n",
       "      <td>-0.218931</td>\n",
       "      <td>-0.010474</td>\n",
       "      <td>-0.077298</td>\n",
       "      <td>NaN</td>\n",
       "      <td>-0.073210</td>\n",
       "      <td>-0.004395</td>\n",
       "      <td>-0.034158</td>\n",
       "      <td>0.008009</td>\n",
       "      <td>-0.127822</td>\n",
       "      <td>-0.158411</td>\n",
       "    </tr>\n",
       "    <tr>\n",
       "      <th>controle de bola</th>\n",
       "      <td>-0.100184</td>\n",
       "      <td>0.084969</td>\n",
       "      <td>0.460197</td>\n",
       "      <td>0.354396</td>\n",
       "      <td>0.217946</td>\n",
       "      <td>-0.073210</td>\n",
       "      <td>NaN</td>\n",
       "      <td>NaN</td>\n",
       "      <td>NaN</td>\n",
       "      <td>NaN</td>\n",
       "      <td>NaN</td>\n",
       "      <td>0.087841</td>\n",
       "    </tr>\n",
       "    <tr>\n",
       "      <th>arrancada</th>\n",
       "      <td>0.133236</td>\n",
       "      <td>-0.158667</td>\n",
       "      <td>0.196869</td>\n",
       "      <td>0.234608</td>\n",
       "      <td>0.044319</td>\n",
       "      <td>-0.004395</td>\n",
       "      <td>NaN</td>\n",
       "      <td>NaN</td>\n",
       "      <td>NaN</td>\n",
       "      <td>NaN</td>\n",
       "      <td>NaN</td>\n",
       "      <td>-0.166507</td>\n",
       "    </tr>\n",
       "    <tr>\n",
       "      <th>agilidade</th>\n",
       "      <td>-0.019897</td>\n",
       "      <td>-0.019395</td>\n",
       "      <td>0.264952</td>\n",
       "      <td>0.222310</td>\n",
       "      <td>0.100869</td>\n",
       "      <td>-0.034158</td>\n",
       "      <td>NaN</td>\n",
       "      <td>NaN</td>\n",
       "      <td>NaN</td>\n",
       "      <td>NaN</td>\n",
       "      <td>NaN</td>\n",
       "      <td>-0.234199</td>\n",
       "    </tr>\n",
       "    <tr>\n",
       "      <th>equilíbrio</th>\n",
       "      <td>0.048463</td>\n",
       "      <td>-0.089877</td>\n",
       "      <td>0.103160</td>\n",
       "      <td>0.138025</td>\n",
       "      <td>0.050076</td>\n",
       "      <td>0.008009</td>\n",
       "      <td>NaN</td>\n",
       "      <td>NaN</td>\n",
       "      <td>NaN</td>\n",
       "      <td>NaN</td>\n",
       "      <td>0.474932</td>\n",
       "      <td>-0.390841</td>\n",
       "    </tr>\n",
       "    <tr>\n",
       "      <th>energia</th>\n",
       "      <td>-0.053895</td>\n",
       "      <td>0.097793</td>\n",
       "      <td>0.365656</td>\n",
       "      <td>0.202563</td>\n",
       "      <td>0.094780</td>\n",
       "      <td>-0.127822</td>\n",
       "      <td>NaN</td>\n",
       "      <td>NaN</td>\n",
       "      <td>NaN</td>\n",
       "      <td>0.474932</td>\n",
       "      <td>NaN</td>\n",
       "      <td>0.262694</td>\n",
       "    </tr>\n",
       "    <tr>\n",
       "      <th>força</th>\n",
       "      <td>-0.259756</td>\n",
       "      <td>0.332798</td>\n",
       "      <td>0.349326</td>\n",
       "      <td>0.075769</td>\n",
       "      <td>0.131280</td>\n",
       "      <td>-0.158411</td>\n",
       "      <td>0.087841</td>\n",
       "      <td>-0.166507</td>\n",
       "      <td>-0.234199</td>\n",
       "      <td>-0.390841</td>\n",
       "      <td>0.262694</td>\n",
       "      <td>NaN</td>\n",
       "    </tr>\n",
       "  </tbody>\n",
       "</table>\n",
       "</div>"
      ],
      "text/plain": [
       "                               id     idade  pontuação geral  potencial  \\\n",
       "id                            NaN       NaN        -0.417025   0.047074   \n",
       "idade                         NaN       NaN         0.452350  -0.253312   \n",
       "pontuação geral         -0.417025  0.452350              NaN        NaN   \n",
       "potencial                0.047074 -0.253312              NaN        NaN   \n",
       "reputação internacional -0.356191  0.253765         0.499491   0.372993   \n",
       "camisa                   0.182074 -0.241156        -0.218931  -0.010474   \n",
       "controle de bola        -0.100184  0.084969         0.460197   0.354396   \n",
       "arrancada                0.133236 -0.158667         0.196869   0.234608   \n",
       "agilidade               -0.019897 -0.019395         0.264952   0.222310   \n",
       "equilíbrio               0.048463 -0.089877         0.103160   0.138025   \n",
       "energia                 -0.053895  0.097793         0.365656   0.202563   \n",
       "força                   -0.259756  0.332798         0.349326   0.075769   \n",
       "\n",
       "                         reputação internacional    camisa  controle de bola  \\\n",
       "id                                     -0.356191  0.182074         -0.100184   \n",
       "idade                                   0.253765 -0.241156          0.084969   \n",
       "pontuação geral                         0.499491 -0.218931          0.460197   \n",
       "potencial                               0.372993 -0.010474          0.354396   \n",
       "reputação internacional                      NaN -0.077298          0.217946   \n",
       "camisa                                 -0.077298       NaN         -0.073210   \n",
       "controle de bola                        0.217946 -0.073210               NaN   \n",
       "arrancada                               0.044319 -0.004395               NaN   \n",
       "agilidade                               0.100869 -0.034158               NaN   \n",
       "equilíbrio                              0.050076  0.008009               NaN   \n",
       "energia                                 0.094780 -0.127822               NaN   \n",
       "força                                   0.131280 -0.158411          0.087841   \n",
       "\n",
       "                         arrancada  agilidade  equilíbrio   energia     força  \n",
       "id                        0.133236  -0.019897    0.048463 -0.053895 -0.259756  \n",
       "idade                    -0.158667  -0.019395   -0.089877  0.097793  0.332798  \n",
       "pontuação geral           0.196869   0.264952    0.103160  0.365656  0.349326  \n",
       "potencial                 0.234608   0.222310    0.138025  0.202563  0.075769  \n",
       "reputação internacional   0.044319   0.100869    0.050076  0.094780  0.131280  \n",
       "camisa                   -0.004395  -0.034158    0.008009 -0.127822 -0.158411  \n",
       "controle de bola               NaN        NaN         NaN       NaN  0.087841  \n",
       "arrancada                      NaN        NaN         NaN       NaN -0.166507  \n",
       "agilidade                      NaN        NaN         NaN       NaN -0.234199  \n",
       "equilíbrio                     NaN        NaN         NaN  0.474932 -0.390841  \n",
       "energia                        NaN        NaN    0.474932       NaN  0.262694  \n",
       "força                    -0.166507  -0.234199   -0.390841  0.262694       NaN  "
      ]
     },
     "execution_count": 26,
     "metadata": {},
     "output_type": "execute_result"
    }
   ],
   "source": [
    "df_corr.where((df_corr.abs() > 0.5) & (df_corr != 1))"
   ]
  },
  {
   "cell_type": "code",
   "execution_count": null,
   "id": "413f47ed",
   "metadata": {},
   "outputs": [],
   "source": []
  },
  {
   "cell_type": "code",
   "execution_count": null,
   "id": "91118ad2",
   "metadata": {},
   "outputs": [],
   "source": []
  },
  {
   "cell_type": "markdown",
   "id": "26f3b98a",
   "metadata": {},
   "source": [
    "# Gerando uma regressão linear em python com sklearn"
   ]
  },
  {
   "cell_type": "code",
   "execution_count": 51,
   "id": "fbf36a0a",
   "metadata": {},
   "outputs": [],
   "source": [
    "from sklearn.linear_model import LinearRegression\n",
    "import matplotlib.pyplot as plt"
   ]
  },
  {
   "cell_type": "code",
   "execution_count": 52,
   "id": "6c63b0a2",
   "metadata": {},
   "outputs": [
    {
     "data": {
      "text/plain": [
       "<matplotlib.collections.PathCollection at 0x7fa85bc854d0>"
      ]
     },
     "execution_count": 52,
     "metadata": {},
     "output_type": "execute_result"
    },
    {
     "data": {
      "image/png": "[encoded data removed]",
      "text/plain": [
       "<Figure size 432x288 with 1 Axes>"
      ]
     },
     "metadata": {
      "needs_background": "light"
     },
     "output_type": "display_data"
    }
   ],
   "source": [
    "plt.scatter(df_humor['Horas_esporte'], df_humor['Humor'])"
   ]
  },
  {
   "cell_type": "code",
   "execution_count": 44,
   "id": "d2cb3ee7",
   "metadata": {},
   "outputs": [],
   "source": [
    "regressao_linear = LinearRegression()"
   ]
  },
  {
   "cell_type": "code",
   "execution_count": 53,
   "id": "9f2d8adf",
   "metadata": {},
   "outputs": [
    {
     "data": {
      "text/plain": [
       "LinearRegression(copy_X=True, fit_intercept=True, n_jobs=None, normalize=False)"
      ]
     },
     "execution_count": 53,
     "metadata": {},
     "output_type": "execute_result"
    }
   ],
   "source": [
    "regressao_linear.fit(df_humor[['Horas_esporte']], df_humor[['Humor']])"
   ]
  },
  {
   "cell_type": "code",
   "execution_count": 55,
   "id": "98a62c9c",
   "metadata": {},
   "outputs": [],
   "source": [
    "y_pred = regressao_linear.predict(df_humor[['Horas_esporte']])"
   ]
  },
  {
   "cell_type": "code",
   "execution_count": 57,
   "id": "1081d122",
   "metadata": {},
   "outputs": [],
   "source": [
    "df_humor['humor_pred'] = y_pred"
   ]
  },
  {
   "cell_type": "code",
   "execution_count": 58,
   "id": "1939c9fd",
   "metadata": {},
   "outputs": [
    {
     "data": {
      "text/html": [
       "<div>\n",
       "<style scoped>\n",
       "    .dataframe tbody tr th:only-of-type {\n",
       "        vertical-align: middle;\n",
       "    }\n",
       "\n",
       "    .dataframe tbody tr th {\n",
       "        vertical-align: top;\n",
       "    }\n",
       "\n",
       "    .dataframe thead th {\n",
       "        text-align: right;\n",
       "    }\n",
       "</style>\n",
       "<table border=\"1\" class=\"dataframe\">\n",
       "  <thead>\n",
       "    <tr style=\"text-align: right;\">\n",
       "      <th></th>\n",
       "      <th>Horas_esporte</th>\n",
       "      <th>Humor</th>\n",
       "      <th>Idade</th>\n",
       "      <th>Filhos</th>\n",
       "      <th>humor_pred</th>\n",
       "    </tr>\n",
       "  </thead>\n",
       "  <tbody>\n",
       "    <tr>\n",
       "      <th>0</th>\n",
       "      <td>0.0</td>\n",
       "      <td>5.0</td>\n",
       "      <td>32</td>\n",
       "      <td>1</td>\n",
       "      <td>4.996429</td>\n",
       "    </tr>\n",
       "    <tr>\n",
       "      <th>1</th>\n",
       "      <td>0.5</td>\n",
       "      <td>5.4</td>\n",
       "      <td>51</td>\n",
       "      <td>2</td>\n",
       "      <td>5.750000</td>\n",
       "    </tr>\n",
       "    <tr>\n",
       "      <th>2</th>\n",
       "      <td>1.0</td>\n",
       "      <td>6.9</td>\n",
       "      <td>24</td>\n",
       "      <td>1</td>\n",
       "      <td>6.503571</td>\n",
       "    </tr>\n",
       "    <tr>\n",
       "      <th>3</th>\n",
       "      <td>1.5</td>\n",
       "      <td>7.2</td>\n",
       "      <td>24</td>\n",
       "      <td>3</td>\n",
       "      <td>7.257143</td>\n",
       "    </tr>\n",
       "    <tr>\n",
       "      <th>4</th>\n",
       "      <td>2.0</td>\n",
       "      <td>8.3</td>\n",
       "      <td>39</td>\n",
       "      <td>1</td>\n",
       "      <td>8.010714</td>\n",
       "    </tr>\n",
       "    <tr>\n",
       "      <th>5</th>\n",
       "      <td>2.5</td>\n",
       "      <td>8.5</td>\n",
       "      <td>57</td>\n",
       "      <td>2</td>\n",
       "      <td>8.764286</td>\n",
       "    </tr>\n",
       "    <tr>\n",
       "      <th>6</th>\n",
       "      <td>3.0</td>\n",
       "      <td>9.5</td>\n",
       "      <td>21</td>\n",
       "      <td>4</td>\n",
       "      <td>9.517857</td>\n",
       "    </tr>\n",
       "  </tbody>\n",
       "</table>\n",
       "</div>"
      ],
      "text/plain": [
       "   Horas_esporte  Humor  Idade  Filhos  humor_pred\n",
       "0            0.0    5.0     32       1    4.996429\n",
       "1            0.5    5.4     51       2    5.750000\n",
       "2            1.0    6.9     24       1    6.503571\n",
       "3            1.5    7.2     24       3    7.257143\n",
       "4            2.0    8.3     39       1    8.010714\n",
       "5            2.5    8.5     57       2    8.764286\n",
       "6            3.0    9.5     21       4    9.517857"
      ]
     },
     "execution_count": 58,
     "metadata": {},
     "output_type": "execute_result"
    }
   ],
   "source": [
    "df_humor"
   ]
  },
  {
   "cell_type": "code",
   "execution_count": 59,
   "id": "46624957",
   "metadata": {},
   "outputs": [
    {
     "data": {
      "text/plain": [
       "[<matplotlib.lines.Line2D at 0x7fa857539f50>]"
      ]
     },
     "execution_count": 59,
     "metadata": {},
     "output_type": "execute_result"
    },
    {
     "data": {
      "image/png": "[encoded data removed]",
      "text/plain": [
       "<Figure size 432x288 with 1 Axes>"
      ]
     },
     "metadata": {
      "needs_background": "light"
     },
     "output_type": "display_data"
    }
   ],
   "source": [
    "plt.scatter(df_humor['Horas_esporte'], df_humor['Humor'])\n",
    "plt.plot(df_humor['Horas_esporte'], df_humor['humor_pred'], c='C1')"
   ]
  },
  {
   "cell_type": "markdown",
   "id": "0fcb14ad",
   "metadata": {},
   "source": [
    "## Equação da regressão:"
   ]
  },
  {
   "cell_type": "code",
   "execution_count": 61,
   "id": "a89c51d0",
   "metadata": {},
   "outputs": [
    {
     "data": {
      "text/plain": [
       "(array([[1.50714286]]), array([4.99642857]))"
      ]
     },
     "execution_count": 61,
     "metadata": {},
     "output_type": "execute_result"
    }
   ],
   "source": [
    "regressao_linear.coef_, regressao_linear.intercept_"
   ]
  },
  {
   "cell_type": "code",
   "execution_count": 63,
   "id": "b428d655",
   "metadata": {},
   "outputs": [
    {
     "name": "stdout",
     "output_type": "stream",
     "text": [
      "Humor = 1.507142857142857 * Horas_esporte + 4.996428571428572\n"
     ]
    }
   ],
   "source": [
    "print(f\"Humor = {regressao_linear.coef_[0][0]} * Horas_esporte + {regressao_linear.intercept_[0]}\")"
   ]
  },
  {
   "cell_type": "code",
   "execution_count": 64,
   "id": "0d09a75c",
   "metadata": {},
   "outputs": [
    {
     "data": {
      "text/plain": [
       "array([[6.20214286]])"
      ]
     },
     "execution_count": 64,
     "metadata": {},
     "output_type": "execute_result"
    }
   ],
   "source": [
    "regressao_linear.predict([[0.8]])"
   ]
  },
  {
   "cell_type": "code",
   "execution_count": 77,
   "id": "2b79e492",
   "metadata": {},
   "outputs": [
    {
     "data": {
      "text/plain": [
       "0.973264253235397"
      ]
     },
     "execution_count": 77,
     "metadata": {},
     "output_type": "execute_result"
    }
   ],
   "source": [
    "regressao_linear.score(df_humor[['Horas_esporte']], df_humor[['Humor']])"
   ]
  },
  {
   "cell_type": "code",
   "execution_count": 78,
   "id": "7d8d1120",
   "metadata": {},
   "outputs": [
    {
     "data": {
      "text/html": [
       "<div>\n",
       "<style scoped>\n",
       "    .dataframe tbody tr th:only-of-type {\n",
       "        vertical-align: middle;\n",
       "    }\n",
       "\n",
       "    .dataframe tbody tr th {\n",
       "        vertical-align: top;\n",
       "    }\n",
       "\n",
       "    .dataframe thead th {\n",
       "        text-align: right;\n",
       "    }\n",
       "</style>\n",
       "<table border=\"1\" class=\"dataframe\">\n",
       "  <thead>\n",
       "    <tr style=\"text-align: right;\">\n",
       "      <th></th>\n",
       "      <th>Horas_esporte</th>\n",
       "      <th>Humor</th>\n",
       "    </tr>\n",
       "  </thead>\n",
       "  <tbody>\n",
       "    <tr>\n",
       "      <th>Horas_esporte</th>\n",
       "      <td>1.000000</td>\n",
       "      <td>0.973264</td>\n",
       "    </tr>\n",
       "    <tr>\n",
       "      <th>Humor</th>\n",
       "      <td>0.973264</td>\n",
       "      <td>1.000000</td>\n",
       "    </tr>\n",
       "  </tbody>\n",
       "</table>\n",
       "</div>"
      ],
      "text/plain": [
       "               Horas_esporte     Humor\n",
       "Horas_esporte       1.000000  0.973264\n",
       "Humor               0.973264  1.000000"
      ]
     },
     "execution_count": 78,
     "metadata": {},
     "output_type": "execute_result"
    }
   ],
   "source": [
    "df_humor[['Horas_esporte', 'Humor']].corr()**2"
   ]
  },
  {
   "cell_type": "code",
   "execution_count": null,
   "id": "fb7ae46a",
   "metadata": {},
   "outputs": [],
   "source": []
  },
  {
   "cell_type": "code",
   "execution_count": null,
   "id": "8ca5e2f1",
   "metadata": {},
   "outputs": [],
   "source": []
  },
  {
   "cell_type": "code",
   "execution_count": 65,
   "id": "32f1807e",
   "metadata": {},
   "outputs": [],
   "source": [
    "regressao_linear_2 = LinearRegression()"
   ]
  },
  {
   "cell_type": "code",
   "execution_count": 74,
   "id": "66c83af0",
   "metadata": {},
   "outputs": [
    {
     "data": {
      "text/plain": [
       "LinearRegression(copy_X=True, fit_intercept=True, n_jobs=None, normalize=False)"
      ]
     },
     "execution_count": 74,
     "metadata": {},
     "output_type": "execute_result"
    }
   ],
   "source": [
    "regressao_linear_2.fit(df_humor[['Horas_esporte', 'Filhos']], df_humor[['Humor']])"
   ]
  },
  {
   "cell_type": "code",
   "execution_count": 75,
   "id": "548d5e29",
   "metadata": {},
   "outputs": [
    {
     "data": {
      "text/plain": [
       "(array([[ 1.60559441, -0.15314685]]), array([5.15504496]))"
      ]
     },
     "execution_count": 75,
     "metadata": {},
     "output_type": "execute_result"
    }
   ],
   "source": [
    "regressao_linear_2.coef_, regressao_linear_2.intercept_"
   ]
  },
  {
   "cell_type": "code",
   "execution_count": null,
   "id": "42853957",
   "metadata": {},
   "outputs": [],
   "source": []
  },
  {
   "cell_type": "markdown",
   "id": "6a99e428",
   "metadata": {},
   "source": [
    "# Regressão com mais de uma feature"
   ]
  },
  {
   "cell_type": "code",
   "execution_count": 79,
   "id": "6192b0d7",
   "metadata": {},
   "outputs": [
    {
     "data": {
      "text/html": [
       "<div>\n",
       "<style scoped>\n",
       "    .dataframe tbody tr th:only-of-type {\n",
       "        vertical-align: middle;\n",
       "    }\n",
       "\n",
       "    .dataframe tbody tr th {\n",
       "        vertical-align: top;\n",
       "    }\n",
       "\n",
       "    .dataframe thead th {\n",
       "        text-align: right;\n",
       "    }\n",
       "</style>\n",
       "<table border=\"1\" class=\"dataframe\">\n",
       "  <thead>\n",
       "    <tr style=\"text-align: right;\">\n",
       "      <th></th>\n",
       "      <th>alcohol</th>\n",
       "      <th>malic_acid</th>\n",
       "      <th>ash</th>\n",
       "      <th>alcalinity_of_ash</th>\n",
       "      <th>magnesium</th>\n",
       "      <th>total_phenols</th>\n",
       "      <th>flavanoids</th>\n",
       "      <th>nonflavanoid_phenols</th>\n",
       "      <th>proanthocyanins</th>\n",
       "      <th>color_intensity</th>\n",
       "      <th>hue</th>\n",
       "      <th>od280/od315_of_diluted_wines</th>\n",
       "      <th>proline</th>\n",
       "      <th>target</th>\n",
       "    </tr>\n",
       "  </thead>\n",
       "  <tbody>\n",
       "    <tr>\n",
       "      <th>0</th>\n",
       "      <td>14.23</td>\n",
       "      <td>1.71</td>\n",
       "      <td>2.43</td>\n",
       "      <td>15.6</td>\n",
       "      <td>127.0</td>\n",
       "      <td>2.80</td>\n",
       "      <td>3.06</td>\n",
       "      <td>0.28</td>\n",
       "      <td>2.29</td>\n",
       "      <td>5.64</td>\n",
       "      <td>1.04</td>\n",
       "      <td>3.92</td>\n",
       "      <td>1065.0</td>\n",
       "      <td>0</td>\n",
       "    </tr>\n",
       "    <tr>\n",
       "      <th>1</th>\n",
       "      <td>13.20</td>\n",
       "      <td>1.78</td>\n",
       "      <td>2.14</td>\n",
       "      <td>11.2</td>\n",
       "      <td>100.0</td>\n",
       "      <td>2.65</td>\n",
       "      <td>2.76</td>\n",
       "      <td>0.26</td>\n",
       "      <td>1.28</td>\n",
       "      <td>4.38</td>\n",
       "      <td>1.05</td>\n",
       "      <td>3.40</td>\n",
       "      <td>1050.0</td>\n",
       "      <td>0</td>\n",
       "    </tr>\n",
       "    <tr>\n",
       "      <th>2</th>\n",
       "      <td>13.16</td>\n",
       "      <td>2.36</td>\n",
       "      <td>2.67</td>\n",
       "      <td>18.6</td>\n",
       "      <td>101.0</td>\n",
       "      <td>2.80</td>\n",
       "      <td>3.24</td>\n",
       "      <td>0.30</td>\n",
       "      <td>2.81</td>\n",
       "      <td>5.68</td>\n",
       "      <td>1.03</td>\n",
       "      <td>3.17</td>\n",
       "      <td>1185.0</td>\n",
       "      <td>0</td>\n",
       "    </tr>\n",
       "    <tr>\n",
       "      <th>3</th>\n",
       "      <td>14.37</td>\n",
       "      <td>1.95</td>\n",
       "      <td>2.50</td>\n",
       "      <td>16.8</td>\n",
       "      <td>113.0</td>\n",
       "      <td>3.85</td>\n",
       "      <td>3.49</td>\n",
       "      <td>0.24</td>\n",
       "      <td>2.18</td>\n",
       "      <td>7.80</td>\n",
       "      <td>0.86</td>\n",
       "      <td>3.45</td>\n",
       "      <td>1480.0</td>\n",
       "      <td>0</td>\n",
       "    </tr>\n",
       "    <tr>\n",
       "      <th>4</th>\n",
       "      <td>13.24</td>\n",
       "      <td>2.59</td>\n",
       "      <td>2.87</td>\n",
       "      <td>21.0</td>\n",
       "      <td>118.0</td>\n",
       "      <td>2.80</td>\n",
       "      <td>2.69</td>\n",
       "      <td>0.39</td>\n",
       "      <td>1.82</td>\n",
       "      <td>4.32</td>\n",
       "      <td>1.04</td>\n",
       "      <td>2.93</td>\n",
       "      <td>735.0</td>\n",
       "      <td>0</td>\n",
       "    </tr>\n",
       "    <tr>\n",
       "      <th>...</th>\n",
       "      <td>...</td>\n",
       "      <td>...</td>\n",
       "      <td>...</td>\n",
       "      <td>...</td>\n",
       "      <td>...</td>\n",
       "      <td>...</td>\n",
       "      <td>...</td>\n",
       "      <td>...</td>\n",
       "      <td>...</td>\n",
       "      <td>...</td>\n",
       "      <td>...</td>\n",
       "      <td>...</td>\n",
       "      <td>...</td>\n",
       "      <td>...</td>\n",
       "    </tr>\n",
       "    <tr>\n",
       "      <th>173</th>\n",
       "      <td>13.71</td>\n",
       "      <td>5.65</td>\n",
       "      <td>2.45</td>\n",
       "      <td>20.5</td>\n",
       "      <td>95.0</td>\n",
       "      <td>1.68</td>\n",
       "      <td>0.61</td>\n",
       "      <td>0.52</td>\n",
       "      <td>1.06</td>\n",
       "      <td>7.70</td>\n",
       "      <td>0.64</td>\n",
       "      <td>1.74</td>\n",
       "      <td>740.0</td>\n",
       "      <td>2</td>\n",
       "    </tr>\n",
       "    <tr>\n",
       "      <th>174</th>\n",
       "      <td>13.40</td>\n",
       "      <td>3.91</td>\n",
       "      <td>2.48</td>\n",
       "      <td>23.0</td>\n",
       "      <td>102.0</td>\n",
       "      <td>1.80</td>\n",
       "      <td>0.75</td>\n",
       "      <td>0.43</td>\n",
       "      <td>1.41</td>\n",
       "      <td>7.30</td>\n",
       "      <td>0.70</td>\n",
       "      <td>1.56</td>\n",
       "      <td>750.0</td>\n",
       "      <td>2</td>\n",
       "    </tr>\n",
       "    <tr>\n",
       "      <th>175</th>\n",
       "      <td>13.27</td>\n",
       "      <td>4.28</td>\n",
       "      <td>2.26</td>\n",
       "      <td>20.0</td>\n",
       "      <td>120.0</td>\n",
       "      <td>1.59</td>\n",
       "      <td>0.69</td>\n",
       "      <td>0.43</td>\n",
       "      <td>1.35</td>\n",
       "      <td>10.20</td>\n",
       "      <td>0.59</td>\n",
       "      <td>1.56</td>\n",
       "      <td>835.0</td>\n",
       "      <td>2</td>\n",
       "    </tr>\n",
       "    <tr>\n",
       "      <th>176</th>\n",
       "      <td>13.17</td>\n",
       "      <td>2.59</td>\n",
       "      <td>2.37</td>\n",
       "      <td>20.0</td>\n",
       "      <td>120.0</td>\n",
       "      <td>1.65</td>\n",
       "      <td>0.68</td>\n",
       "      <td>0.53</td>\n",
       "      <td>1.46</td>\n",
       "      <td>9.30</td>\n",
       "      <td>0.60</td>\n",
       "      <td>1.62</td>\n",
       "      <td>840.0</td>\n",
       "      <td>2</td>\n",
       "    </tr>\n",
       "    <tr>\n",
       "      <th>177</th>\n",
       "      <td>14.13</td>\n",
       "      <td>4.10</td>\n",
       "      <td>2.74</td>\n",
       "      <td>24.5</td>\n",
       "      <td>96.0</td>\n",
       "      <td>2.05</td>\n",
       "      <td>0.76</td>\n",
       "      <td>0.56</td>\n",
       "      <td>1.35</td>\n",
       "      <td>9.20</td>\n",
       "      <td>0.61</td>\n",
       "      <td>1.60</td>\n",
       "      <td>560.0</td>\n",
       "      <td>2</td>\n",
       "    </tr>\n",
       "  </tbody>\n",
       "</table>\n",
       "<p>178 rows × 14 columns</p>\n",
       "</div>"
      ],
      "text/plain": [
       "     alcohol  malic_acid   ash  alcalinity_of_ash  magnesium  total_phenols  \\\n",
       "0      14.23        1.71  2.43               15.6      127.0           2.80   \n",
       "1      13.20        1.78  2.14               11.2      100.0           2.65   \n",
       "2      13.16        2.36  2.67               18.6      101.0           2.80   \n",
       "3      14.37        1.95  2.50               16.8      113.0           3.85   \n",
       "4      13.24        2.59  2.87               21.0      118.0           2.80   \n",
       "..       ...         ...   ...                ...        ...            ...   \n",
       "173    13.71        5.65  2.45               20.5       95.0           1.68   \n",
       "174    13.40        3.91  2.48               23.0      102.0           1.80   \n",
       "175    13.27        4.28  2.26               20.0      120.0           1.59   \n",
       "176    13.17        2.59  2.37               20.0      120.0           1.65   \n",
       "177    14.13        4.10  2.74               24.5       96.0           2.05   \n",
       "\n",
       "     flavanoids  nonflavanoid_phenols  proanthocyanins  color_intensity   hue  \\\n",
       "0          3.06                  0.28             2.29             5.64  1.04   \n",
       "1          2.76                  0.26             1.28             4.38  1.05   \n",
       "2          3.24                  0.30             2.81             5.68  1.03   \n",
       "3          3.49                  0.24             2.18             7.80  0.86   \n",
       "4          2.69                  0.39             1.82             4.32  1.04   \n",
       "..          ...                   ...              ...              ...   ...   \n",
       "173        0.61                  0.52             1.06             7.70  0.64   \n",
       "174        0.75                  0.43             1.41             7.30  0.70   \n",
       "175        0.69                  0.43             1.35            10.20  0.59   \n",
       "176        0.68                  0.53             1.46             9.30  0.60   \n",
       "177        0.76                  0.56             1.35             9.20  0.61   \n",
       "\n",
       "     od280/od315_of_diluted_wines  proline  target  \n",
       "0                            3.92   1065.0       0  \n",
       "1                            3.40   1050.0       0  \n",
       "2                            3.17   1185.0       0  \n",
       "3                            3.45   1480.0       0  \n",
       "4                            2.93    735.0       0  \n",
       "..                            ...      ...     ...  \n",
       "173                          1.74    740.0       2  \n",
       "174                          1.56    750.0       2  \n",
       "175                          1.56    835.0       2  \n",
       "176                          1.62    840.0       2  \n",
       "177                          1.60    560.0       2  \n",
       "\n",
       "[178 rows x 14 columns]"
      ]
     },
     "execution_count": 79,
     "metadata": {},
     "output_type": "execute_result"
    }
   ],
   "source": [
    "from sklearn.datasets import load_wine\n",
    "data = load_wine()\n",
    "df_wine = pd.DataFrame(data.data, columns=data.feature_names)\n",
    "df_wine['target'] = data.target\n",
    "df_wine"
   ]
  },
  {
   "cell_type": "code",
   "execution_count": 80,
   "id": "9668dff0",
   "metadata": {},
   "outputs": [],
   "source": [
    "wine_regressor = LinearRegression()"
   ]
  },
  {
   "cell_type": "code",
   "execution_count": 81,
   "id": "2116bd67",
   "metadata": {},
   "outputs": [],
   "source": [
    "features = [\"malic_acid\",\n",
    "\"ash\",\n",
    "\"alcalinity_of_ash\",\n",
    "\"magnesium\",\n",
    "\"total_phenols\",\n",
    "\"flavanoids\",\n",
    "\"nonflavanoid_phenols\",\n",
    "\"proanthocyanins\",\n",
    "\"color_intensity\",\n",
    "\"hue\"]"
   ]
  },
  {
   "cell_type": "code",
   "execution_count": 83,
   "id": "cd6b9a57",
   "metadata": {},
   "outputs": [
    {
     "data": {
      "text/plain": [
       "LinearRegression(copy_X=True, fit_intercept=True, n_jobs=None, normalize=False)"
      ]
     },
     "execution_count": 83,
     "metadata": {},
     "output_type": "execute_result"
    }
   ],
   "source": [
    "wine_regressor.fit(df_wine[features], df_wine[['alcohol']])"
   ]
  },
  {
   "cell_type": "code",
   "execution_count": 84,
   "id": "aa2abc62",
   "metadata": {},
   "outputs": [
    {
     "data": {
      "text/plain": [
       "array([[ 0.14031699,  0.46469342, -0.07641037,  0.00252856,  0.13565642,\n",
       "         0.10567529, -0.49834398, -0.14447873,  0.19949661,  0.53658485]])"
      ]
     },
     "execution_count": 84,
     "metadata": {},
     "output_type": "execute_result"
    }
   ],
   "source": [
    "wine_regressor.coef_"
   ]
  },
  {
   "cell_type": "code",
   "execution_count": 87,
   "id": "adce07da",
   "metadata": {},
   "outputs": [],
   "source": [
    "alcohol_pred = wine_regressor.predict(df_wine[features])"
   ]
  },
  {
   "cell_type": "code",
   "execution_count": 90,
   "id": "640b38c7",
   "metadata": {},
   "outputs": [
    {
     "data": {
      "text/plain": [
       "0.5204408932130626"
      ]
     },
     "execution_count": 90,
     "metadata": {},
     "output_type": "execute_result"
    }
   ],
   "source": [
    "wine_regressor.score(df_wine[features], df_wine[['alcohol']])"
   ]
  },
  {
   "cell_type": "code",
   "execution_count": 89,
   "id": "e9850393",
   "metadata": {},
   "outputs": [
    {
     "data": {
      "text/plain": [
       "[<matplotlib.lines.Line2D at 0x7fa8573b8a50>]"
      ]
     },
     "execution_count": 89,
     "metadata": {},
     "output_type": "execute_result"
    },
    {
     "data": {
      "image/png": "[encoded data removed]",
      "text/plain": [
       "<Figure size 432x288 with 1 Axes>"
      ]
     },
     "metadata": {
      "needs_background": "light"
     },
     "output_type": "display_data"
    }
   ],
   "source": [
    "plt.plot(alcohol_pred)\n",
    "plt.plot(df_wine[['alcohol']])"
   ]
  },
  {
   "cell_type": "markdown",
   "id": "4075d330",
   "metadata": {},
   "source": [
    "# Calculo de tamanho de amostra para teste A/B"
   ]
  },
  {
   "cell_type": "code",
   "execution_count": 95,
   "id": "c75c1d60",
   "metadata": {},
   "outputs": [
    {
     "data": {
      "text/plain": [
       "2401.0"
      ]
     },
     "execution_count": 95,
     "metadata": {},
     "output_type": "execute_result"
    }
   ],
   "source": [
    "sigma = 0.5\n",
    "Z = 1.96\n",
    "e = 0.02\n",
    "\n",
    "n = (Z*sigma/e)**2\n",
    "n"
   ]
  }
 ],
 "metadata": {
  "kernelspec": {
   "display_name": "Python 3 (ipykernel)",
   "language": "python",
   "name": "python3"
  },
  "language_info": {
   "codemirror_mode": {
    "name": "ipython",
    "version": 3
   },
   "file_extension": ".py",
   "mimetype": "text/x-python",
   "name": "python",
   "nbconvert_exporter": "python",
   "pygments_lexer": "ipython3",
   "version": "3.7.6"
  }
 },
 "nbformat": 4,
 "nbformat_minor": 5
}
