{
 "cells": [
  {
   "cell_type": "code",
   "execution_count": 1,
   "id": "5e1d85f8-2c1e-4f44-a7c3-eeb656cec0e3",
   "metadata": {
    "tags": []
   },
   "outputs": [
    {
     "data": {
      "text/html": [
       "<div>\n",
       "<style scoped>\n",
       "    .dataframe tbody tr th:only-of-type {\n",
       "        vertical-align: middle;\n",
       "    }\n",
       "\n",
       "    .dataframe tbody tr th {\n",
       "        vertical-align: top;\n",
       "    }\n",
       "\n",
       "    .dataframe thead th {\n",
       "        text-align: right;\n",
       "    }\n",
       "</style>\n",
       "<table border=\"1\" class=\"dataframe\">\n",
       "  <thead>\n",
       "    <tr style=\"text-align: right;\">\n",
       "      <th></th>\n",
       "      <th>id_familia</th>\n",
       "      <th>tipo_casa</th>\n",
       "      <th>tamanho_casa</th>\n",
       "      <th>n_cartoes</th>\n",
       "      <th>tamanho_familia</th>\n",
       "      <th>renda_familiar</th>\n",
       "      <th>num_automoveis</th>\n",
       "      <th>distanciacentro</th>\n",
       "    </tr>\n",
       "  </thead>\n",
       "  <tbody>\n",
       "    <tr>\n",
       "      <th>0</th>\n",
       "      <td>1</td>\n",
       "      <td>apartamento</td>\n",
       "      <td>pequeno</td>\n",
       "      <td>4</td>\n",
       "      <td>2</td>\n",
       "      <td>14</td>\n",
       "      <td>1</td>\n",
       "      <td>22.2</td>\n",
       "    </tr>\n",
       "    <tr>\n",
       "      <th>1</th>\n",
       "      <td>2</td>\n",
       "      <td>casa</td>\n",
       "      <td>médio</td>\n",
       "      <td>6</td>\n",
       "      <td>2</td>\n",
       "      <td>16</td>\n",
       "      <td>2</td>\n",
       "      <td>3.0</td>\n",
       "    </tr>\n",
       "    <tr>\n",
       "      <th>2</th>\n",
       "      <td>3</td>\n",
       "      <td>casa</td>\n",
       "      <td>grande</td>\n",
       "      <td>6</td>\n",
       "      <td>4</td>\n",
       "      <td>14</td>\n",
       "      <td>2</td>\n",
       "      <td>31.0</td>\n",
       "    </tr>\n",
       "    <tr>\n",
       "      <th>3</th>\n",
       "      <td>4</td>\n",
       "      <td>kitnet</td>\n",
       "      <td>pequeno</td>\n",
       "      <td>7</td>\n",
       "      <td>4</td>\n",
       "      <td>17</td>\n",
       "      <td>1</td>\n",
       "      <td>2.0</td>\n",
       "    </tr>\n",
       "    <tr>\n",
       "      <th>4</th>\n",
       "      <td>5</td>\n",
       "      <td>sobrado</td>\n",
       "      <td>médio</td>\n",
       "      <td>8</td>\n",
       "      <td>5</td>\n",
       "      <td>18</td>\n",
       "      <td>3</td>\n",
       "      <td>1.0</td>\n",
       "    </tr>\n",
       "    <tr>\n",
       "      <th>5</th>\n",
       "      <td>6</td>\n",
       "      <td>apartamento</td>\n",
       "      <td>grande</td>\n",
       "      <td>7</td>\n",
       "      <td>5</td>\n",
       "      <td>21</td>\n",
       "      <td>2</td>\n",
       "      <td>12.0</td>\n",
       "    </tr>\n",
       "    <tr>\n",
       "      <th>6</th>\n",
       "      <td>7</td>\n",
       "      <td>apartamento</td>\n",
       "      <td>grande</td>\n",
       "      <td>8</td>\n",
       "      <td>6</td>\n",
       "      <td>17</td>\n",
       "      <td>1</td>\n",
       "      <td>2.0</td>\n",
       "    </tr>\n",
       "    <tr>\n",
       "      <th>7</th>\n",
       "      <td>8</td>\n",
       "      <td>casa</td>\n",
       "      <td>pequeno</td>\n",
       "      <td>10</td>\n",
       "      <td>6</td>\n",
       "      <td>25</td>\n",
       "      <td>3</td>\n",
       "      <td>4.0</td>\n",
       "    </tr>\n",
       "  </tbody>\n",
       "</table>\n",
       "</div>"
      ],
      "text/plain": [
       "   id_familia    tipo_casa tamanho_casa  n_cartoes  tamanho_familia  \\\n",
       "0           1  apartamento      pequeno          4                2   \n",
       "1           2         casa        médio          6                2   \n",
       "2           3         casa       grande          6                4   \n",
       "3           4       kitnet      pequeno          7                4   \n",
       "4           5      sobrado        médio          8                5   \n",
       "5           6  apartamento       grande          7                5   \n",
       "6           7  apartamento       grande          8                6   \n",
       "7           8         casa      pequeno         10                6   \n",
       "\n",
       "   renda_familiar  num_automoveis  distanciacentro  \n",
       "0              14               1             22.2  \n",
       "1              16               2              3.0  \n",
       "2              14               2             31.0  \n",
       "3              17               1              2.0  \n",
       "4              18               3              1.0  \n",
       "5              21               2             12.0  \n",
       "6              17               1              2.0  \n",
       "7              25               3              4.0  "
      ]
     },
     "execution_count": 1,
     "metadata": {},
     "output_type": "execute_result"
    }
   ],
   "source": [
    "import pandas as pd\n",
    "\n",
    "dados = {'id_familia':[1,2,3,4,5,6,7,8],\n",
    "         'tipo_casa': [\"apartamento\",\"casa\",\"casa\",\"kitnet\",\"sobrado\",\"apartamento\",\"apartamento\",\"casa\"],\n",
    "         'tamanho_casa': [\"pequeno\",\"médio\",\"grande\",\"pequeno\",\"médio\",\"grande\",\"grande\",\"pequeno\"],\n",
    "         'n_cartoes': [4,6,6,7,8,7,8,10],\n",
    "         'tamanho_familia': [2,2,4,4,5,5,6,6],\n",
    "         'renda_familiar':[14,16,14,17,18,21,17,25],\n",
    "         'num_automoveis': [1,2,2,1,3,2,1,3],\n",
    "         'distanciacentro': [22.2,3,31,2,1,12,2,4]}#km\n",
    "\n",
    "df = pd.DataFrame(dados)\n",
    "df.head(20)"
   ]
  },
  {
   "cell_type": "code",
   "execution_count": 2,
   "id": "e11958ca-6db1-4672-b95e-5c502a74e497",
   "metadata": {
    "tags": []
   },
   "outputs": [
    {
     "data": {
      "text/plain": [
       "id_familia           int64\n",
       "tipo_casa           object\n",
       "tamanho_casa        object\n",
       "n_cartoes            int64\n",
       "tamanho_familia      int64\n",
       "renda_familiar       int64\n",
       "num_automoveis       int64\n",
       "distanciacentro    float64\n",
       "dtype: object"
      ]
     },
     "execution_count": 2,
     "metadata": {},
     "output_type": "execute_result"
    }
   ],
   "source": [
    "df.dtypes"
   ]
  },
  {
   "cell_type": "markdown",
   "id": "6463964c-98b0-48e2-bef9-30a7f1686015",
   "metadata": {},
   "source": [
    "id_familia         - qualitativa nominal\n",
    "tipo_casa          - qualitativa nominal\n",
    "tamanho_casa       - quanlitativa ordinal\n",
    "n_cartoes          - quantitativa discreta\n",
    "tamanho_familia    - quantitativa discreta \n",
    "renda_familiar     - quantitativa continua\n",
    "num_automoveis     - quantitativa discreta \n",
    "distanciacentro    - quantitatva continua"
   ]
  },
  {
   "cell_type": "markdown",
   "id": "1a168544-ef4d-471a-b63a-0992cb99edfc",
   "metadata": {},
   "source": [
    "# Descoberta guiada 1:"
   ]
  },
  {
   "cell_type": "code",
   "execution_count": 3,
   "id": "fb92e0a6-33da-4f23-9b94-b511b7f9df30",
   "metadata": {
    "tags": []
   },
   "outputs": [
    {
     "data": {
      "text/plain": [
       "9.65"
      ]
     },
     "execution_count": 3,
     "metadata": {},
     "output_type": "execute_result"
    }
   ],
   "source": [
    "df['distanciacentro'].mean()"
   ]
  },
  {
   "cell_type": "code",
   "execution_count": 4,
   "id": "2f3ba678-9fc6-426c-8188-fd36cb1d752a",
   "metadata": {
    "tags": []
   },
   "outputs": [
    {
     "data": {
      "text/plain": [
       "3.5"
      ]
     },
     "execution_count": 4,
     "metadata": {},
     "output_type": "execute_result"
    }
   ],
   "source": [
    "df['distanciacentro'].median()"
   ]
  },
  {
   "cell_type": "code",
   "execution_count": 5,
   "id": "7e12aa8a-2f70-401b-bed2-46284278e59f",
   "metadata": {
    "tags": []
   },
   "outputs": [
    {
     "data": {
      "text/plain": [
       "(17.75, 17.0)"
      ]
     },
     "execution_count": 5,
     "metadata": {},
     "output_type": "execute_result"
    }
   ],
   "source": [
    "df['renda_familiar'].mean(), df['renda_familiar'].median()"
   ]
  },
  {
   "cell_type": "code",
   "execution_count": 6,
   "id": "b89cb76c-a4bd-4728-a321-9637ed57f248",
   "metadata": {
    "tags": []
   },
   "outputs": [
    {
     "data": {
      "text/plain": [
       "0    6\n",
       "1    7\n",
       "2    8\n",
       "Name: n_cartoes, dtype: int64"
      ]
     },
     "execution_count": 6,
     "metadata": {},
     "output_type": "execute_result"
    }
   ],
   "source": [
    "df['n_cartoes'].mode()"
   ]
  },
  {
   "cell_type": "code",
   "execution_count": 7,
   "id": "1303d954-2aad-4321-84fc-d5415dbd1595",
   "metadata": {
    "tags": []
   },
   "outputs": [
    {
     "data": {
      "text/plain": [
       "0     4\n",
       "1     6\n",
       "2     6\n",
       "3     7\n",
       "4     8\n",
       "5     7\n",
       "6     8\n",
       "7    10\n",
       "Name: n_cartoes, dtype: int64"
      ]
     },
     "execution_count": 7,
     "metadata": {},
     "output_type": "execute_result"
    }
   ],
   "source": [
    "df['n_cartoes']"
   ]
  },
  {
   "cell_type": "code",
   "execution_count": 8,
   "id": "34b9c764-2ffd-40e6-8d19-6dd323806ffb",
   "metadata": {
    "tags": []
   },
   "outputs": [
    {
     "data": {
      "text/plain": [
       "0.25     2.00\n",
       "0.50     3.50\n",
       "0.75    14.55\n",
       "Name: distanciacentro, dtype: float64"
      ]
     },
     "execution_count": 8,
     "metadata": {},
     "output_type": "execute_result"
    }
   ],
   "source": [
    "df['distanciacentro'].quantile([0.25, 0.5, 0.75])"
   ]
  },
  {
   "cell_type": "code",
   "execution_count": 9,
   "id": "feb2ceb3-e5ff-40a6-b7b9-c5558aa50968",
   "metadata": {
    "tags": []
   },
   "outputs": [
    {
     "data": {
      "text/plain": [
       "12.55"
      ]
     },
     "execution_count": 9,
     "metadata": {},
     "output_type": "execute_result"
    }
   ],
   "source": [
    "iqr = 14.55 - 2.00\n",
    "iqr"
   ]
  },
  {
   "cell_type": "code",
   "execution_count": 10,
   "id": "f34bc44f-b8db-40b7-8e14-63808d675a49",
   "metadata": {
    "tags": []
   },
   "outputs": [
    {
     "data": {
      "text/plain": [
       "33.375"
      ]
     },
     "execution_count": 10,
     "metadata": {},
     "output_type": "execute_result"
    }
   ],
   "source": [
    "LS = 14.55 + 1.5*iqr\n",
    "LS"
   ]
  },
  {
   "cell_type": "code",
   "execution_count": 11,
   "id": "a95d1ee0-4b8d-463a-bcd6-9ed3a76e9ff0",
   "metadata": {
    "tags": []
   },
   "outputs": [
    {
     "data": {
      "text/plain": [
       "-16.825000000000003"
      ]
     },
     "execution_count": 11,
     "metadata": {},
     "output_type": "execute_result"
    }
   ],
   "source": [
    "LI = 2.00 - 1.5*iqr\n",
    "LI"
   ]
  },
  {
   "cell_type": "code",
   "execution_count": 12,
   "id": "5ff4d303-8f04-4227-b96a-246129679cb3",
   "metadata": {
    "tags": []
   },
   "outputs": [
    {
     "data": {
      "text/html": [
       "<div>\n",
       "<style scoped>\n",
       "    .dataframe tbody tr th:only-of-type {\n",
       "        vertical-align: middle;\n",
       "    }\n",
       "\n",
       "    .dataframe tbody tr th {\n",
       "        vertical-align: top;\n",
       "    }\n",
       "\n",
       "    .dataframe thead th {\n",
       "        text-align: right;\n",
       "    }\n",
       "</style>\n",
       "<table border=\"1\" class=\"dataframe\">\n",
       "  <thead>\n",
       "    <tr style=\"text-align: right;\">\n",
       "      <th></th>\n",
       "      <th>id_familia</th>\n",
       "      <th>n_cartoes</th>\n",
       "      <th>tamanho_familia</th>\n",
       "      <th>renda_familiar</th>\n",
       "      <th>num_automoveis</th>\n",
       "      <th>distanciacentro</th>\n",
       "    </tr>\n",
       "  </thead>\n",
       "  <tbody>\n",
       "    <tr>\n",
       "      <th>count</th>\n",
       "      <td>8.00000</td>\n",
       "      <td>8.000000</td>\n",
       "      <td>8.000000</td>\n",
       "      <td>8.000000</td>\n",
       "      <td>8.000000</td>\n",
       "      <td>8.000000</td>\n",
       "    </tr>\n",
       "    <tr>\n",
       "      <th>mean</th>\n",
       "      <td>4.50000</td>\n",
       "      <td>7.000000</td>\n",
       "      <td>4.250000</td>\n",
       "      <td>17.750000</td>\n",
       "      <td>1.875000</td>\n",
       "      <td>9.650000</td>\n",
       "    </tr>\n",
       "    <tr>\n",
       "      <th>std</th>\n",
       "      <td>2.44949</td>\n",
       "      <td>1.772811</td>\n",
       "      <td>1.581139</td>\n",
       "      <td>3.693624</td>\n",
       "      <td>0.834523</td>\n",
       "      <td>11.255856</td>\n",
       "    </tr>\n",
       "    <tr>\n",
       "      <th>min</th>\n",
       "      <td>1.00000</td>\n",
       "      <td>4.000000</td>\n",
       "      <td>2.000000</td>\n",
       "      <td>14.000000</td>\n",
       "      <td>1.000000</td>\n",
       "      <td>1.000000</td>\n",
       "    </tr>\n",
       "    <tr>\n",
       "      <th>25%</th>\n",
       "      <td>2.75000</td>\n",
       "      <td>6.000000</td>\n",
       "      <td>3.500000</td>\n",
       "      <td>15.500000</td>\n",
       "      <td>1.000000</td>\n",
       "      <td>2.000000</td>\n",
       "    </tr>\n",
       "    <tr>\n",
       "      <th>50%</th>\n",
       "      <td>4.50000</td>\n",
       "      <td>7.000000</td>\n",
       "      <td>4.500000</td>\n",
       "      <td>17.000000</td>\n",
       "      <td>2.000000</td>\n",
       "      <td>3.500000</td>\n",
       "    </tr>\n",
       "    <tr>\n",
       "      <th>75%</th>\n",
       "      <td>6.25000</td>\n",
       "      <td>8.000000</td>\n",
       "      <td>5.250000</td>\n",
       "      <td>18.750000</td>\n",
       "      <td>2.250000</td>\n",
       "      <td>14.550000</td>\n",
       "    </tr>\n",
       "    <tr>\n",
       "      <th>max</th>\n",
       "      <td>8.00000</td>\n",
       "      <td>10.000000</td>\n",
       "      <td>6.000000</td>\n",
       "      <td>25.000000</td>\n",
       "      <td>3.000000</td>\n",
       "      <td>31.000000</td>\n",
       "    </tr>\n",
       "  </tbody>\n",
       "</table>\n",
       "</div>"
      ],
      "text/plain": [
       "       id_familia  n_cartoes  tamanho_familia  renda_familiar  num_automoveis  \\\n",
       "count     8.00000   8.000000         8.000000        8.000000        8.000000   \n",
       "mean      4.50000   7.000000         4.250000       17.750000        1.875000   \n",
       "std       2.44949   1.772811         1.581139        3.693624        0.834523   \n",
       "min       1.00000   4.000000         2.000000       14.000000        1.000000   \n",
       "25%       2.75000   6.000000         3.500000       15.500000        1.000000   \n",
       "50%       4.50000   7.000000         4.500000       17.000000        2.000000   \n",
       "75%       6.25000   8.000000         5.250000       18.750000        2.250000   \n",
       "max       8.00000  10.000000         6.000000       25.000000        3.000000   \n",
       "\n",
       "       distanciacentro  \n",
       "count         8.000000  \n",
       "mean          9.650000  \n",
       "std          11.255856  \n",
       "min           1.000000  \n",
       "25%           2.000000  \n",
       "50%           3.500000  \n",
       "75%          14.550000  \n",
       "max          31.000000  "
      ]
     },
     "execution_count": 12,
     "metadata": {},
     "output_type": "execute_result"
    }
   ],
   "source": [
    "df.describe()"
   ]
  },
  {
   "cell_type": "code",
   "execution_count": 14,
   "id": "ec0e8764-4f57-4bd6-981e-ee38492c50d0",
   "metadata": {
    "tags": []
   },
   "outputs": [
    {
     "data": {
      "text/plain": [
       "<Axes: >"
      ]
     },
     "execution_count": 14,
     "metadata": {},
     "output_type": "execute_result"
    },
    {
     "data": {
      "image/png": "[encoded data removed]",
      "text/plain": [
       "<Figure size 640x480 with 1 Axes>"
      ]
     },
     "metadata": {},
     "output_type": "display_data"
    }
   ],
   "source": [
    "df[['distanciacentro']].boxplot()"
   ]
  },
  {
   "cell_type": "code",
   "execution_count": null,
   "id": "985a8a7f-e470-4eb1-9421-4b122b75b878",
   "metadata": {},
   "outputs": [],
   "source": []
  },
  {
   "cell_type": "code",
   "execution_count": null,
   "id": "473716a3-afa5-4987-a2e1-ff0baa0800a2",
   "metadata": {},
   "outputs": [],
   "source": []
  },
  {
   "cell_type": "code",
   "execution_count": null,
   "id": "4e787aed-fe8e-4345-89c5-a9b65076a4b0",
   "metadata": {},
   "outputs": [],
   "source": []
  },
  {
   "cell_type": "code",
   "execution_count": null,
   "id": "d82a3a04-499f-4b37-9804-31d41cc30bc7",
   "metadata": {},
   "outputs": [],
   "source": []
  },
  {
   "cell_type": "code",
   "execution_count": 3,
   "id": "56c520cb-d3b7-4490-b6cd-c3708041c8fa",
   "metadata": {
    "tags": []
   },
   "outputs": [
    {
     "data": {
      "text/html": [
       "<div>\n",
       "<style scoped>\n",
       "    .dataframe tbody tr th:only-of-type {\n",
       "        vertical-align: middle;\n",
       "    }\n",
       "\n",
       "    .dataframe tbody tr th {\n",
       "        vertical-align: top;\n",
       "    }\n",
       "\n",
       "    .dataframe thead th {\n",
       "        text-align: right;\n",
       "    }\n",
       "</style>\n",
       "<table border=\"1\" class=\"dataframe\">\n",
       "  <thead>\n",
       "    <tr style=\"text-align: right;\">\n",
       "      <th></th>\n",
       "      <th>id</th>\n",
       "      <th>nome</th>\n",
       "      <th>idade</th>\n",
       "      <th>nacionalidade</th>\n",
       "      <th>pontuação geral</th>\n",
       "      <th>potencial</th>\n",
       "      <th>time</th>\n",
       "      <th>valor</th>\n",
       "      <th>remuneração</th>\n",
       "      <th>perna de preferência</th>\n",
       "      <th>...</th>\n",
       "      <th>emprestado de</th>\n",
       "      <th>validade do contrato</th>\n",
       "      <th>altura</th>\n",
       "      <th>peso</th>\n",
       "      <th>controle de bola</th>\n",
       "      <th>arrancada</th>\n",
       "      <th>agilidade</th>\n",
       "      <th>equilíbrio</th>\n",
       "      <th>energia</th>\n",
       "      <th>força</th>\n",
       "    </tr>\n",
       "  </thead>\n",
       "  <tbody>\n",
       "    <tr>\n",
       "      <th>0</th>\n",
       "      <td>158023</td>\n",
       "      <td>L. Messi</td>\n",
       "      <td>31</td>\n",
       "      <td>Argentina</td>\n",
       "      <td>94</td>\n",
       "      <td>94</td>\n",
       "      <td>FC Barcelona</td>\n",
       "      <td>€110.5M</td>\n",
       "      <td>€565K</td>\n",
       "      <td>Esquerda</td>\n",
       "      <td>...</td>\n",
       "      <td>NaN</td>\n",
       "      <td>2021</td>\n",
       "      <td>5'7</td>\n",
       "      <td>159lbs</td>\n",
       "      <td>96.0</td>\n",
       "      <td>91.0</td>\n",
       "      <td>91.0</td>\n",
       "      <td>95.0</td>\n",
       "      <td>72.0</td>\n",
       "      <td>59.0</td>\n",
       "    </tr>\n",
       "    <tr>\n",
       "      <th>1</th>\n",
       "      <td>20801</td>\n",
       "      <td>Cristiano Ronaldo</td>\n",
       "      <td>33</td>\n",
       "      <td>Portugal</td>\n",
       "      <td>94</td>\n",
       "      <td>94</td>\n",
       "      <td>Juventus</td>\n",
       "      <td>€77M</td>\n",
       "      <td>€405K</td>\n",
       "      <td>Direita</td>\n",
       "      <td>...</td>\n",
       "      <td>NaN</td>\n",
       "      <td>2022</td>\n",
       "      <td>6'2</td>\n",
       "      <td>183lbs</td>\n",
       "      <td>94.0</td>\n",
       "      <td>89.0</td>\n",
       "      <td>87.0</td>\n",
       "      <td>70.0</td>\n",
       "      <td>88.0</td>\n",
       "      <td>79.0</td>\n",
       "    </tr>\n",
       "  </tbody>\n",
       "</table>\n",
       "<p>2 rows × 24 columns</p>\n",
       "</div>"
      ],
      "text/plain": [
       "       id               nome  idade nacionalidade  pontuação geral  potencial  \\\n",
       "0  158023           L. Messi     31     Argentina               94         94   \n",
       "1   20801  Cristiano Ronaldo     33      Portugal               94         94   \n",
       "\n",
       "           time    valor remuneração perna de preferência  ...  \\\n",
       "0  FC Barcelona  €110.5M       €565K             Esquerda  ...   \n",
       "1      Juventus     €77M       €405K              Direita  ...   \n",
       "\n",
       "   emprestado de  validade do contrato  altura    peso controle de bola  \\\n",
       "0             NaN                 2021     5'7  159lbs             96.0   \n",
       "1             NaN                 2022     6'2  183lbs             94.0   \n",
       "\n",
       "  arrancada agilidade equilíbrio  energia  força  \n",
       "0      91.0      91.0       95.0     72.0   59.0  \n",
       "1      89.0      87.0       70.0     88.0   79.0  \n",
       "\n",
       "[2 rows x 24 columns]"
      ]
     },
     "execution_count": 3,
     "metadata": {},
     "output_type": "execute_result"
    }
   ],
   "source": [
    "dffifa = pd.read_csv('https://www.harve.com.br/praticas/fifaplayers_pt.csv')\n",
    "dffifa.head(2)"
   ]
  },
  {
   "cell_type": "code",
   "execution_count": 4,
   "id": "af99eb8b-1822-4c4d-8d8d-cf244bee5d45",
   "metadata": {
    "tags": []
   },
   "outputs": [],
   "source": [
    "#dffifa['remuneracao_corrigida'] = dffifa['remuneração'].str.extract('(\\d+)').astype(float)"
   ]
  },
  {
   "cell_type": "code",
   "execution_count": null,
   "id": "4bbf842c-a2f1-4194-b744-b3038483627a",
   "metadata": {},
   "outputs": [],
   "source": [
    "# dffifa['remuneração'].str.replace('€', '').str.replace('K', '').astype(float)"
   ]
  }
 ],
 "metadata": {
  "kernelspec": {
   "display_name": "Python 3 (ipykernel)",
   "language": "python",
   "name": "python3"
  },
  "language_info": {
   "codemirror_mode": {
    "name": "ipython",
    "version": 3
   },
   "file_extension": ".py",
   "mimetype": "text/x-python",
   "name": "python",
   "nbconvert_exporter": "python",
   "pygments_lexer": "ipython3",
   "version": "3.11.4"
  }
 },
 "nbformat": 4,
 "nbformat_minor": 5
}
