{
 "cells": [
  {
   "cell_type": "code",
   "execution_count": 116,
   "id": "c4aa8c94-da31-461e-b1b0-5a3b84198944",
   "metadata": {
    "tags": []
   },
   "outputs": [],
   "source": [
    "from sklearn.datasets import load_digits # carrega o toy dataset dos digitos \n",
    "\n",
    "#algumas métricas que usaremos para calcular a assertividade do nosso modelos\n",
    "from sklearn.metrics import accuracy_score, confusion_matrix, ConfusionMatrixDisplay\n",
    "\n",
    "# biblioteca para plotar imagens\n",
    "from matplotlib import pyplot as plt\n",
    "\n",
    "# bibliotecas para manipulaão dos datasets\n",
    "import numpy as np\n",
    "import pandas as pd"
   ]
  },
  {
   "cell_type": "code",
   "execution_count": 117,
   "id": "77855247-36c5-4ab4-8646-be70fcb283af",
   "metadata": {
    "tags": []
   },
   "outputs": [],
   "source": [
    "X, Y = load_digits(n_class=2, return_X_y=True) # carrega apenas as classes 0 e 1 do dataset de digitos"
   ]
  },
  {
   "cell_type": "code",
   "execution_count": 118,
   "id": "34bf995f-02c5-4c08-8ad7-c1110a5e556a",
   "metadata": {
    "tags": []
   },
   "outputs": [],
   "source": [
    "limiar_pixel_preto = 2\n",
    "X = np.where(X<=limiar_pixel_preto, 0, X)\n",
    "X = np.where(X>limiar_pixel_preto, 1, X)"
   ]
  },
  {
   "cell_type": "code",
   "execution_count": 128,
   "id": "f83d2e44-1be1-434d-abcc-83b33f8a12f5",
   "metadata": {
    "tags": []
   },
   "outputs": [
    {
     "data": {
      "image/png": "[encoded data removed]",
      "text/plain": [
       "<Figure size 640x480 with 1 Axes>"
      ]
     },
     "metadata": {},
     "output_type": "display_data"
    }
   ],
   "source": [
    "plt.imshow(X[0].reshape(8,8), interpolation='nearest', cmap='Greys')\n",
    "plt.show()"
   ]
  },
  {
   "cell_type": "code",
   "execution_count": 120,
   "id": "05b38cf1-6ba0-4256-9607-9656ef7ae625",
   "metadata": {
    "tags": []
   },
   "outputs": [],
   "source": [
    "medias = X.mean(axis=1)"
   ]
  },
  {
   "cell_type": "code",
   "execution_count": 121,
   "id": "540765df-c0a1-4cc9-bcdd-e7a1cf615524",
   "metadata": {
    "tags": []
   },
   "outputs": [],
   "source": [
    "dataset_validacao = pd.DataFrame(np.concatenate([[medias], \n",
    "                                                 [Y], \n",
    "                                                 [np.count_nonzero(X, axis=1)]], axis=0).T, \n",
    "                                 columns=['media', 'label', 'pixels_pretos'])"
   ]
  },
  {
   "cell_type": "code",
   "execution_count": 122,
   "id": "60bee057-1fab-4324-aa51-0073b3fdc37d",
   "metadata": {
    "tags": []
   },
   "outputs": [
    {
     "data": {
      "text/html": [
       "<div>\n",
       "<style scoped>\n",
       "    .dataframe tbody tr th:only-of-type {\n",
       "        vertical-align: middle;\n",
       "    }\n",
       "\n",
       "    .dataframe tbody tr th {\n",
       "        vertical-align: top;\n",
       "    }\n",
       "\n",
       "    .dataframe thead tr th {\n",
       "        text-align: left;\n",
       "    }\n",
       "\n",
       "    .dataframe thead tr:last-of-type th {\n",
       "        text-align: right;\n",
       "    }\n",
       "</style>\n",
       "<table border=\"1\" class=\"dataframe\">\n",
       "  <thead>\n",
       "    <tr>\n",
       "      <th></th>\n",
       "      <th colspan=\"3\" halign=\"left\">media</th>\n",
       "      <th colspan=\"3\" halign=\"left\">pixels_pretos</th>\n",
       "    </tr>\n",
       "    <tr>\n",
       "      <th></th>\n",
       "      <th>mean</th>\n",
       "      <th>max</th>\n",
       "      <th>min</th>\n",
       "      <th>mean</th>\n",
       "      <th>max</th>\n",
       "      <th>min</th>\n",
       "    </tr>\n",
       "    <tr>\n",
       "      <th>label</th>\n",
       "      <th></th>\n",
       "      <th></th>\n",
       "      <th></th>\n",
       "      <th></th>\n",
       "      <th></th>\n",
       "      <th></th>\n",
       "    </tr>\n",
       "  </thead>\n",
       "  <tbody>\n",
       "    <tr>\n",
       "      <th>0.0</th>\n",
       "      <td>0.487535</td>\n",
       "      <td>0.578125</td>\n",
       "      <td>0.359375</td>\n",
       "      <td>31.202247</td>\n",
       "      <td>37.0</td>\n",
       "      <td>23.0</td>\n",
       "    </tr>\n",
       "    <tr>\n",
       "      <th>1.0</th>\n",
       "      <td>0.409942</td>\n",
       "      <td>0.578125</td>\n",
       "      <td>0.250000</td>\n",
       "      <td>26.236264</td>\n",
       "      <td>37.0</td>\n",
       "      <td>16.0</td>\n",
       "    </tr>\n",
       "  </tbody>\n",
       "</table>\n",
       "</div>"
      ],
      "text/plain": [
       "          media                     pixels_pretos            \n",
       "           mean       max       min          mean   max   min\n",
       "label                                                        \n",
       "0.0    0.487535  0.578125  0.359375     31.202247  37.0  23.0\n",
       "1.0    0.409942  0.578125  0.250000     26.236264  37.0  16.0"
      ]
     },
     "execution_count": 122,
     "metadata": {},
     "output_type": "execute_result"
    }
   ],
   "source": [
    "dataset_validacao.groupby('label').agg(['mean', 'max', 'min'])"
   ]
  },
  {
   "cell_type": "code",
   "execution_count": 123,
   "id": "c8fe76ff-b74e-4c3f-9892-b0ab2337c091",
   "metadata": {
    "tags": []
   },
   "outputs": [],
   "source": [
    "dataset_validacao['predicao'] = (np.count_nonzero(X, axis=1) < 29).astype(int)"
   ]
  },
  {
   "cell_type": "code",
   "execution_count": 124,
   "id": "2ec25987-93bf-415e-b19c-bd5c4aa8b0c4",
   "metadata": {
    "tags": []
   },
   "outputs": [
    {
     "data": {
      "text/html": [
       "<div>\n",
       "<style scoped>\n",
       "    .dataframe tbody tr th:only-of-type {\n",
       "        vertical-align: middle;\n",
       "    }\n",
       "\n",
       "    .dataframe tbody tr th {\n",
       "        vertical-align: top;\n",
       "    }\n",
       "\n",
       "    .dataframe thead th {\n",
       "        text-align: right;\n",
       "    }\n",
       "</style>\n",
       "<table border=\"1\" class=\"dataframe\">\n",
       "  <thead>\n",
       "    <tr style=\"text-align: right;\">\n",
       "      <th></th>\n",
       "      <th>media</th>\n",
       "      <th>label</th>\n",
       "      <th>pixels_pretos</th>\n",
       "      <th>predicao</th>\n",
       "    </tr>\n",
       "  </thead>\n",
       "  <tbody>\n",
       "    <tr>\n",
       "      <th>0</th>\n",
       "      <td>0.484375</td>\n",
       "      <td>0.0</td>\n",
       "      <td>31.0</td>\n",
       "      <td>0</td>\n",
       "    </tr>\n",
       "    <tr>\n",
       "      <th>1</th>\n",
       "      <td>0.406250</td>\n",
       "      <td>1.0</td>\n",
       "      <td>26.0</td>\n",
       "      <td>1</td>\n",
       "    </tr>\n",
       "    <tr>\n",
       "      <th>2</th>\n",
       "      <td>0.500000</td>\n",
       "      <td>0.0</td>\n",
       "      <td>32.0</td>\n",
       "      <td>0</td>\n",
       "    </tr>\n",
       "    <tr>\n",
       "      <th>3</th>\n",
       "      <td>0.390625</td>\n",
       "      <td>1.0</td>\n",
       "      <td>25.0</td>\n",
       "      <td>1</td>\n",
       "    </tr>\n",
       "    <tr>\n",
       "      <th>4</th>\n",
       "      <td>0.453125</td>\n",
       "      <td>0.0</td>\n",
       "      <td>29.0</td>\n",
       "      <td>0</td>\n",
       "    </tr>\n",
       "    <tr>\n",
       "      <th>...</th>\n",
       "      <td>...</td>\n",
       "      <td>...</td>\n",
       "      <td>...</td>\n",
       "      <td>...</td>\n",
       "    </tr>\n",
       "    <tr>\n",
       "      <th>355</th>\n",
       "      <td>0.437500</td>\n",
       "      <td>1.0</td>\n",
       "      <td>28.0</td>\n",
       "      <td>1</td>\n",
       "    </tr>\n",
       "    <tr>\n",
       "      <th>356</th>\n",
       "      <td>0.531250</td>\n",
       "      <td>1.0</td>\n",
       "      <td>34.0</td>\n",
       "      <td>0</td>\n",
       "    </tr>\n",
       "    <tr>\n",
       "      <th>357</th>\n",
       "      <td>0.468750</td>\n",
       "      <td>0.0</td>\n",
       "      <td>30.0</td>\n",
       "      <td>0</td>\n",
       "    </tr>\n",
       "    <tr>\n",
       "      <th>358</th>\n",
       "      <td>0.484375</td>\n",
       "      <td>1.0</td>\n",
       "      <td>31.0</td>\n",
       "      <td>0</td>\n",
       "    </tr>\n",
       "    <tr>\n",
       "      <th>359</th>\n",
       "      <td>0.546875</td>\n",
       "      <td>0.0</td>\n",
       "      <td>35.0</td>\n",
       "      <td>0</td>\n",
       "    </tr>\n",
       "  </tbody>\n",
       "</table>\n",
       "<p>360 rows × 4 columns</p>\n",
       "</div>"
      ],
      "text/plain": [
       "        media  label  pixels_pretos  predicao\n",
       "0    0.484375    0.0           31.0         0\n",
       "1    0.406250    1.0           26.0         1\n",
       "2    0.500000    0.0           32.0         0\n",
       "3    0.390625    1.0           25.0         1\n",
       "4    0.453125    0.0           29.0         0\n",
       "..        ...    ...            ...       ...\n",
       "355  0.437500    1.0           28.0         1\n",
       "356  0.531250    1.0           34.0         0\n",
       "357  0.468750    0.0           30.0         0\n",
       "358  0.484375    1.0           31.0         0\n",
       "359  0.546875    0.0           35.0         0\n",
       "\n",
       "[360 rows x 4 columns]"
      ]
     },
     "execution_count": 124,
     "metadata": {},
     "output_type": "execute_result"
    }
   ],
   "source": [
    "dataset_validacao"
   ]
  },
  {
   "cell_type": "code",
   "execution_count": 125,
   "id": "66ae352c-9b84-479c-98d1-4c60921c5d74",
   "metadata": {
    "tags": []
   },
   "outputs": [
    {
     "data": {
      "text/plain": [
       "0.8194444444444444"
      ]
     },
     "execution_count": 125,
     "metadata": {},
     "output_type": "execute_result"
    }
   ],
   "source": [
    "accuracy_score(dataset_validacao['label'], dataset_validacao['predicao'])"
   ]
  },
  {
   "cell_type": "code",
   "execution_count": 126,
   "id": "047cc66c-3d0d-4468-8541-17f001a92073",
   "metadata": {
    "tags": []
   },
   "outputs": [
    {
     "data": {
      "text/plain": [
       "<sklearn.metrics._plot.confusion_matrix.ConfusionMatrixDisplay at 0x7f558d082610>"
      ]
     },
     "execution_count": 126,
     "metadata": {},
     "output_type": "execute_result"
    },
    {
     "data": {
      "image/png": "[encoded data removed]",
      "text/plain": [
       "<Figure size 640x480 with 2 Axes>"
      ]
     },
     "metadata": {},
     "output_type": "display_data"
    }
   ],
   "source": [
    "disp = ConfusionMatrixDisplay(confusion_matrix(dataset_validacao['label'], dataset_validacao['predicao']))\n",
    "disp.plot()"
   ]
  },
  {
   "cell_type": "code",
   "execution_count": null,
   "id": "bb93e16f-59be-46b5-ba8b-d4c9dd108068",
   "metadata": {},
   "outputs": [],
   "source": []
  }
 ],
 "metadata": {
  "kernelspec": {
   "display_name": "Python 3 (ipykernel)",
   "language": "python",
   "name": "python3"
  },
  "language_info": {
   "codemirror_mode": {
    "name": "ipython",
    "version": 3
   },
   "file_extension": ".py",
   "mimetype": "text/x-python",
   "name": "python",
   "nbconvert_exporter": "python",
   "pygments_lexer": "ipython3",
   "version": "3.11.4"
  }
 },
 "nbformat": 4,
 "nbformat_minor": 5
}
